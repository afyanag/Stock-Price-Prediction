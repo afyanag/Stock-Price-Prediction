{
 "cells": [
  {
   "cell_type": "markdown",
   "id": "bb20d184",
   "metadata": {},
   "source": [
    "Artificial recurrent neural network LSTM"
   ]
  },
  {
   "cell_type": "code",
   "execution_count": 14,
   "id": "78b0eb53",
   "metadata": {},
   "outputs": [],
   "source": [
    "import math\n",
    "import pandas_datareader as web\n",
    "import numpy as np\n",
    "import pandas as pd\n",
    "from sklearn.preprocessing import MinMaxScaler\n",
    "from keras.models import Sequential\n",
    "import matplotlib.pyplot as plt\n",
    "plt.style.use('fivethirtyeight')"
   ]
  },
  {
   "cell_type": "markdown",
   "id": "a6a406f2",
   "metadata": {},
   "source": [
    "Get Stock"
   ]
  },
  {
   "cell_type": "code",
   "execution_count": 15,
   "id": "2cd54196",
   "metadata": {},
   "outputs": [
    {
     "data": {
      "text/html": [
       "<div>\n",
       "<style scoped>\n",
       "    .dataframe tbody tr th:only-of-type {\n",
       "        vertical-align: middle;\n",
       "    }\n",
       "\n",
       "    .dataframe tbody tr th {\n",
       "        vertical-align: top;\n",
       "    }\n",
       "\n",
       "    .dataframe thead th {\n",
       "        text-align: right;\n",
       "    }\n",
       "</style>\n",
       "<table border=\"1\" class=\"dataframe\">\n",
       "  <thead>\n",
       "    <tr style=\"text-align: right;\">\n",
       "      <th></th>\n",
       "      <th>High</th>\n",
       "      <th>Low</th>\n",
       "      <th>Open</th>\n",
       "      <th>Close</th>\n",
       "      <th>Volume</th>\n",
       "      <th>Adj Close</th>\n",
       "    </tr>\n",
       "    <tr>\n",
       "      <th>Date</th>\n",
       "      <th></th>\n",
       "      <th></th>\n",
       "      <th></th>\n",
       "      <th></th>\n",
       "      <th></th>\n",
       "      <th></th>\n",
       "    </tr>\n",
       "  </thead>\n",
       "  <tbody>\n",
       "    <tr>\n",
       "      <th>2019-07-01</th>\n",
       "      <td>0.017448</td>\n",
       "      <td>0.015258</td>\n",
       "      <td>0.017232</td>\n",
       "      <td>0.017028</td>\n",
       "      <td>1506210.0</td>\n",
       "      <td>0.017028</td>\n",
       "    </tr>\n",
       "    <tr>\n",
       "      <th>2019-07-02</th>\n",
       "      <td>0.020266</td>\n",
       "      <td>0.015143</td>\n",
       "      <td>0.017024</td>\n",
       "      <td>0.016336</td>\n",
       "      <td>454670.0</td>\n",
       "      <td>0.016336</td>\n",
       "    </tr>\n",
       "    <tr>\n",
       "      <th>2019-07-03</th>\n",
       "      <td>0.016517</td>\n",
       "      <td>0.010733</td>\n",
       "      <td>0.016350</td>\n",
       "      <td>0.012063</td>\n",
       "      <td>246653.0</td>\n",
       "      <td>0.012063</td>\n",
       "    </tr>\n",
       "    <tr>\n",
       "      <th>2019-07-04</th>\n",
       "      <td>0.015256</td>\n",
       "      <td>0.011156</td>\n",
       "      <td>0.012066</td>\n",
       "      <td>0.013696</td>\n",
       "      <td>216974.0</td>\n",
       "      <td>0.013696</td>\n",
       "    </tr>\n",
       "    <tr>\n",
       "      <th>2019-07-05</th>\n",
       "      <td>0.016383</td>\n",
       "      <td>0.013649</td>\n",
       "      <td>0.013673</td>\n",
       "      <td>0.016059</td>\n",
       "      <td>276543.0</td>\n",
       "      <td>0.016059</td>\n",
       "    </tr>\n",
       "    <tr>\n",
       "      <th>...</th>\n",
       "      <td>...</td>\n",
       "      <td>...</td>\n",
       "      <td>...</td>\n",
       "      <td>...</td>\n",
       "      <td>...</td>\n",
       "      <td>...</td>\n",
       "    </tr>\n",
       "    <tr>\n",
       "      <th>2022-04-26</th>\n",
       "      <td>0.217845</td>\n",
       "      <td>0.193833</td>\n",
       "      <td>0.212189</td>\n",
       "      <td>0.195858</td>\n",
       "      <td>150508498.0</td>\n",
       "      <td>0.195858</td>\n",
       "    </tr>\n",
       "    <tr>\n",
       "      <th>2022-04-27</th>\n",
       "      <td>0.210322</td>\n",
       "      <td>0.194549</td>\n",
       "      <td>0.195870</td>\n",
       "      <td>0.210322</td>\n",
       "      <td>121476464.0</td>\n",
       "      <td>0.210322</td>\n",
       "    </tr>\n",
       "    <tr>\n",
       "      <th>2022-04-28</th>\n",
       "      <td>0.210245</td>\n",
       "      <td>0.199980</td>\n",
       "      <td>0.210245</td>\n",
       "      <td>0.202210</td>\n",
       "      <td>125087041.0</td>\n",
       "      <td>0.202210</td>\n",
       "    </tr>\n",
       "    <tr>\n",
       "      <th>2022-04-29</th>\n",
       "      <td>0.203358</td>\n",
       "      <td>0.186905</td>\n",
       "      <td>0.202193</td>\n",
       "      <td>0.189895</td>\n",
       "      <td>117137008.0</td>\n",
       "      <td>0.189895</td>\n",
       "    </tr>\n",
       "    <tr>\n",
       "      <th>2022-05-09</th>\n",
       "      <td>0.165637</td>\n",
       "      <td>0.154174</td>\n",
       "      <td>0.162898</td>\n",
       "      <td>0.156024</td>\n",
       "      <td>91563224.0</td>\n",
       "      <td>0.156024</td>\n",
       "    </tr>\n",
       "  </tbody>\n",
       "</table>\n",
       "<p>1010 rows × 6 columns</p>\n",
       "</div>"
      ],
      "text/plain": [
       "                High       Low      Open     Close       Volume  Adj Close\n",
       "Date                                                                      \n",
       "2019-07-01  0.017448  0.015258  0.017232  0.017028    1506210.0   0.017028\n",
       "2019-07-02  0.020266  0.015143  0.017024  0.016336     454670.0   0.016336\n",
       "2019-07-03  0.016517  0.010733  0.016350  0.012063     246653.0   0.012063\n",
       "2019-07-04  0.015256  0.011156  0.012066  0.013696     216974.0   0.013696\n",
       "2019-07-05  0.016383  0.013649  0.013673  0.016059     276543.0   0.016059\n",
       "...              ...       ...       ...       ...          ...        ...\n",
       "2022-04-26  0.217845  0.193833  0.212189  0.195858  150508498.0   0.195858\n",
       "2022-04-27  0.210322  0.194549  0.195870  0.210322  121476464.0   0.210322\n",
       "2022-04-28  0.210245  0.199980  0.210245  0.202210  125087041.0   0.202210\n",
       "2022-04-29  0.203358  0.186905  0.202193  0.189895  117137008.0   0.189895\n",
       "2022-05-09  0.165637  0.154174  0.162898  0.156024   91563224.0   0.156024\n",
       "\n",
       "[1010 rows x 6 columns]"
      ]
     },
     "execution_count": 15,
     "metadata": {},
     "output_type": "execute_result"
    }
   ],
   "source": [
    "#Get Stock\n",
    "df = web.DataReader('CHZ-USD',data_source = 'yahoo', start='2012-07-01', end='2022-05-09')\n",
    "df"
   ]
  },
  {
   "cell_type": "code",
   "execution_count": 16,
   "id": "65625c30",
   "metadata": {},
   "outputs": [
    {
     "data": {
      "text/plain": [
       "(1010, 6)"
      ]
     },
     "execution_count": 16,
     "metadata": {},
     "output_type": "execute_result"
    }
   ],
   "source": [
    "#Number of rows and columns\n",
    "df.shape"
   ]
  },
  {
   "cell_type": "code",
   "execution_count": 17,
   "id": "bcc8117d",
   "metadata": {},
   "outputs": [
    {
     "data": {
      "image/png": "[encoded data removed]",
      "text/plain": [
       "<Figure size 1152x576 with 1 Axes>"
      ]
     },
     "metadata": {},
     "output_type": "display_data"
    }
   ],
   "source": [
    "#Visualize  the closing price \n",
    "plt.figure(figsize=(16,8))\n",
    "plt.title('Close Price')\n",
    "plt.plot(df['Close'])\n",
    "plt.xlabel('Date', fontsize =18)\n",
    "plt.ylabel('Close Price USD ($)', fontsize =18)\n",
    "plt.show()"
   ]
  },
  {
   "cell_type": "code",
   "execution_count": 18,
   "id": "62f51781",
   "metadata": {},
   "outputs": [
    {
     "data": {
      "text/plain": [
       "808"
      ]
     },
     "execution_count": 18,
     "metadata": {},
     "output_type": "execute_result"
    }
   ],
   "source": [
    "#Create dataframe with close column\n",
    "data = df.filter(['Close'])\n",
    "#Convert the dataframe to a numpy array\n",
    "dataset = data.values\n",
    "#Get the number of rows to train the model on\n",
    "training_data_len = math.ceil(len(dataset) * .8)\n",
    "training_data_len"
   ]
  },
  {
   "cell_type": "code",
   "execution_count": 19,
   "id": "ba3b9793",
   "metadata": {},
   "outputs": [
    {
     "data": {
      "text/plain": [
       "array([[0.01675531],\n",
       "       [0.01585635],\n",
       "       [0.01030546],\n",
       "       ...,\n",
       "       [0.25731826],\n",
       "       [0.24132032],\n",
       "       [0.19732039]])"
      ]
     },
     "execution_count": 19,
     "metadata": {},
     "output_type": "execute_result"
    }
   ],
   "source": [
    "#Scale the data\n",
    "scaler = MinMaxScaler(feature_range=(0,1))\n",
    "scaled_data = scaler.fit_transform(dataset)\n",
    "\n",
    "scaled_data"
   ]
  },
  {
   "cell_type": "code",
   "execution_count": 20,
   "id": "5e9ac4a9",
   "metadata": {},
   "outputs": [
    {
     "name": "stdout",
     "output_type": "stream",
     "text": [
      "[array([0.01675531, 0.01585635, 0.01030546, 0.01242683, 0.01549651,\n",
      "       0.01536141, 0.01550561, 0.01851294, 0.02001855, 0.01909492,\n",
      "       0.01660462, 0.01644873, 0.0153783 , 0.01350116, 0.01404027,\n",
      "       0.01424682, 0.01287241, 0.01485608, 0.01498728, 0.01786211,\n",
      "       0.01670984, 0.01530555, 0.01400779, 0.01322056, 0.01268145,\n",
      "       0.01310234, 0.01160452, 0.01175911, 0.01217351, 0.01160452,\n",
      "       0.01129145, 0.0102587 , 0.01056138, 0.01021193, 0.00828802,\n",
      "       0.00896483, 0.00666029, 0.00754755, 0.00658495, 0.00562754,\n",
      "       0.00589514, 0.00556388, 0.00506504, 0.00464934, 0.00412972,\n",
      "       0.00414921, 0.00442071, 0.00477146, 0.00437784, 0.00470391,\n",
      "       0.00411023, 0.00418818, 0.00403749, 0.00422975, 0.00471819,\n",
      "       0.00409594, 0.00380236, 0.00386471, 0.00240846, 0.00210448])]\n",
      "[0.0019265098834040425]\n",
      "\n",
      "[array([0.01675531, 0.01585635, 0.01030546, 0.01242683, 0.01549651,\n",
      "       0.01536141, 0.01550561, 0.01851294, 0.02001855, 0.01909492,\n",
      "       0.01660462, 0.01644873, 0.0153783 , 0.01350116, 0.01404027,\n",
      "       0.01424682, 0.01287241, 0.01485608, 0.01498728, 0.01786211,\n",
      "       0.01670984, 0.01530555, 0.01400779, 0.01322056, 0.01268145,\n",
      "       0.01310234, 0.01160452, 0.01175911, 0.01217351, 0.01160452,\n",
      "       0.01129145, 0.0102587 , 0.01056138, 0.01021193, 0.00828802,\n",
      "       0.00896483, 0.00666029, 0.00754755, 0.00658495, 0.00562754,\n",
      "       0.00589514, 0.00556388, 0.00506504, 0.00464934, 0.00412972,\n",
      "       0.00414921, 0.00442071, 0.00477146, 0.00437784, 0.00470391,\n",
      "       0.00411023, 0.00418818, 0.00403749, 0.00422975, 0.00471819,\n",
      "       0.00409594, 0.00380236, 0.00386471, 0.00240846, 0.00210448]), array([0.01585635, 0.01030546, 0.01242683, 0.01549651, 0.01536141,\n",
      "       0.01550561, 0.01851294, 0.02001855, 0.01909492, 0.01660462,\n",
      "       0.01644873, 0.0153783 , 0.01350116, 0.01404027, 0.01424682,\n",
      "       0.01287241, 0.01485608, 0.01498728, 0.01786211, 0.01670984,\n",
      "       0.01530555, 0.01400779, 0.01322056, 0.01268145, 0.01310234,\n",
      "       0.01160452, 0.01175911, 0.01217351, 0.01160452, 0.01129145,\n",
      "       0.0102587 , 0.01056138, 0.01021193, 0.00828802, 0.00896483,\n",
      "       0.00666029, 0.00754755, 0.00658495, 0.00562754, 0.00589514,\n",
      "       0.00556388, 0.00506504, 0.00464934, 0.00412972, 0.00414921,\n",
      "       0.00442071, 0.00477146, 0.00437784, 0.00470391, 0.00411023,\n",
      "       0.00418818, 0.00403749, 0.00422975, 0.00471819, 0.00409594,\n",
      "       0.00380236, 0.00386471, 0.00240846, 0.00210448, 0.00192651])]\n",
      "[0.0019265098834040425, 0.001263987891676633]\n",
      "\n"
     ]
    }
   ],
   "source": [
    "#Create the training data\n",
    "train_data = scaled_data[0:training_data_len,:]\n",
    "#Split the data into X_train and Y_train data sets\n",
    "x_train = []\n",
    "y_train = []\n",
    "\n",
    "for i in range(60, len(train_data)):\n",
    "\n",
    "    x_train.append(train_data[i-60:i, 0])\n",
    "    y_train.append(train_data[i, 0]) \n",
    "    if i<= 61:\n",
    "        print(x_train)\n",
    "        print(y_train)\n",
    "        print()"
   ]
  },
  {
   "cell_type": "code",
   "execution_count": 21,
   "id": "868a8a75",
   "metadata": {},
   "outputs": [],
   "source": [
    "#Convert the x_train and y_train to numpy arrays\n",
    "x_train, y_train = np.array(x_train), np.array(y_train)"
   ]
  },
  {
   "cell_type": "code",
   "execution_count": 22,
   "id": "f60a3b3d",
   "metadata": {},
   "outputs": [
    {
     "data": {
      "text/plain": [
       "(748, 60, 1)"
      ]
     },
     "execution_count": 22,
     "metadata": {},
     "output_type": "execute_result"
    }
   ],
   "source": [
    "#Reshape our data\n",
    "x_train = np.reshape(x_train,(x_train.shape[0], x_train.shape[1], 1))\n",
    "x_train.shape"
   ]
  },
  {
   "cell_type": "code",
   "execution_count": 23,
   "id": "99adfe77",
   "metadata": {},
   "outputs": [],
   "source": [
    "from keras.layers import LSTM\n",
    "from keras.layers import Activation, Dense"
   ]
  },
  {
   "cell_type": "code",
   "execution_count": 24,
   "id": "021ae135",
   "metadata": {},
   "outputs": [],
   "source": [
    "#Build the LSTM model\n",
    "model = Sequential()\n",
    "model.add(LSTM(50, return_sequences=True, input_shape = (x_train.shape[1], 1)))\n",
    "model.add(LSTM(50, return_sequences=False ))\n",
    "model.add(Dense(25))\n",
    "model.add(Dense(1))"
   ]
  },
  {
   "cell_type": "code",
   "execution_count": 25,
   "id": "fcd767dc",
   "metadata": {},
   "outputs": [],
   "source": [
    "#Compile the model\n",
    "model.compile(optimizer='adam', loss='mean_squared_error')"
   ]
  },
  {
   "cell_type": "code",
   "execution_count": 26,
   "id": "af49bd17",
   "metadata": {},
   "outputs": [
    {
     "name": "stdout",
     "output_type": "stream",
     "text": [
      "748/748 [==============================] - 27s 32ms/step - loss: 0.0047\n"
     ]
    },
    {
     "data": {
      "text/plain": [
       "<keras.callbacks.History at 0x24ea1995280>"
      ]
     },
     "execution_count": 26,
     "metadata": {},
     "output_type": "execute_result"
    }
   ],
   "source": [
    "#Train the model\n",
    "model.fit(x_train, y_train, batch_size=1, epochs=1)"
   ]
  },
  {
   "cell_type": "code",
   "execution_count": 27,
   "id": "c2180a66",
   "metadata": {},
   "outputs": [],
   "source": [
    "#Create the testing data set\n",
    "#Create a new array containing scaled values from index 1543 to 2003\n",
    "test_data = scaled_data[training_data_len - 60: , :]\n",
    "#Create the data sets x_test and y_test\n",
    "x_test = []\n",
    "y_test = dataset[training_data_len:, :]\n",
    "for i in range(60, len(test_data)):\n",
    "    x_test.append(test_data[i-60:i, 0])"
   ]
  },
  {
   "cell_type": "code",
   "execution_count": 28,
   "id": "201885b5",
   "metadata": {},
   "outputs": [],
   "source": [
    "#Convert the data to a numpy array\n",
    "x_test = np.array(x_test)"
   ]
  },
  {
   "cell_type": "code",
   "execution_count": 29,
   "id": "ce6c0a33",
   "metadata": {},
   "outputs": [],
   "source": [
    "#Reshape the data\n",
    "x_test = np.reshape(x_test, (x_test.shape[0], x_test.shape[1], 1))"
   ]
  },
  {
   "cell_type": "code",
   "execution_count": 30,
   "id": "bdb7fe39",
   "metadata": {},
   "outputs": [],
   "source": [
    "#Get the models predicted price values\n",
    "predictions = model.predict(x_test)\n",
    "predictions = scaler.inverse_transform(predictions)"
   ]
  },
  {
   "cell_type": "code",
   "execution_count": 31,
   "id": "791df8f0",
   "metadata": {},
   "outputs": [
    {
     "data": {
      "text/plain": [
       "0.0177189372111075"
      ]
     },
     "execution_count": 31,
     "metadata": {},
     "output_type": "execute_result"
    }
   ],
   "source": [
    "#Get the root mean squared error (RMSE)\n",
    "rmse = np.sqrt( np.mean( predictions - y_test )**2 )\n",
    "rmse"
   ]
  },
  {
   "cell_type": "code",
   "execution_count": 32,
   "id": "bd04c8b2",
   "metadata": {},
   "outputs": [
    {
     "name": "stderr",
     "output_type": "stream",
     "text": [
      "<ipython-input-32-dcd53dce83b1>:4: SettingWithCopyWarning: \n",
      "A value is trying to be set on a copy of a slice from a DataFrame.\n",
      "Try using .loc[row_indexer,col_indexer] = value instead\n",
      "\n",
      "See the caveats in the documentation: https://pandas.pydata.org/pandas-docs/stable/user_guide/indexing.html#returning-a-view-versus-a-copy\n",
      "  valid['Predictions'] = predictions\n"
     ]
    },
    {
     "data": {
      "text/plain": [
       "<function matplotlib.pyplot.show(close=None, block=None)>"
      ]
     },
     "execution_count": 32,
     "metadata": {},
     "output_type": "execute_result"
    },
    {
     "data": {
      "image/png": "[encoded data removed]",
      "text/plain": [
       "<Figure size 1152x576 with 1 Axes>"
      ]
     },
     "metadata": {},
     "output_type": "display_data"
    }
   ],
   "source": [
    "#Plot the data\n",
    "train =data[:training_data_len]\n",
    "valid = data[training_data_len:]\n",
    "valid['Predictions'] = predictions \n",
    "#Visualize the data\n",
    "plt.figure(figsize=(16,8))\n",
    "plt.title('Model')\n",
    "plt.xlabel('Date', fontsize=18)\n",
    "plt.ylabel('Close Price USD ($)', fontsize=18)\n",
    "plt.plot(train['Close'])\n",
    "plt.plot(valid[['Close', 'Predictions']])\n",
    "plt.legend(['Train', 'Val', 'Predictions'], loc='lower right')\n",
    "plt.show"
   ]
  },
  {
   "cell_type": "code",
   "execution_count": 33,
   "id": "63f69178",
   "metadata": {},
   "outputs": [
    {
     "data": {
      "text/html": [
       "<div>\n",
       "<style scoped>\n",
       "    .dataframe tbody tr th:only-of-type {\n",
       "        vertical-align: middle;\n",
       "    }\n",
       "\n",
       "    .dataframe tbody tr th {\n",
       "        vertical-align: top;\n",
       "    }\n",
       "\n",
       "    .dataframe thead th {\n",
       "        text-align: right;\n",
       "    }\n",
       "</style>\n",
       "<table border=\"1\" class=\"dataframe\">\n",
       "  <thead>\n",
       "    <tr style=\"text-align: right;\">\n",
       "      <th></th>\n",
       "      <th>Close</th>\n",
       "      <th>Predictions</th>\n",
       "    </tr>\n",
       "    <tr>\n",
       "      <th>Date</th>\n",
       "      <th></th>\n",
       "      <th></th>\n",
       "    </tr>\n",
       "  </thead>\n",
       "  <tbody>\n",
       "    <tr>\n",
       "      <th>2021-09-16</th>\n",
       "      <td>0.337551</td>\n",
       "      <td>0.311814</td>\n",
       "    </tr>\n",
       "    <tr>\n",
       "      <th>2021-09-17</th>\n",
       "      <td>0.325150</td>\n",
       "      <td>0.311332</td>\n",
       "    </tr>\n",
       "    <tr>\n",
       "      <th>2021-09-18</th>\n",
       "      <td>0.328581</td>\n",
       "      <td>0.309702</td>\n",
       "    </tr>\n",
       "    <tr>\n",
       "      <th>2021-09-19</th>\n",
       "      <td>0.316379</td>\n",
       "      <td>0.308230</td>\n",
       "    </tr>\n",
       "    <tr>\n",
       "      <th>2021-09-20</th>\n",
       "      <td>0.269589</td>\n",
       "      <td>0.305571</td>\n",
       "    </tr>\n",
       "    <tr>\n",
       "      <th>...</th>\n",
       "      <td>...</td>\n",
       "      <td>...</td>\n",
       "    </tr>\n",
       "    <tr>\n",
       "      <th>2022-04-26</th>\n",
       "      <td>0.195858</td>\n",
       "      <td>0.207876</td>\n",
       "    </tr>\n",
       "    <tr>\n",
       "      <th>2022-04-27</th>\n",
       "      <td>0.210322</td>\n",
       "      <td>0.204205</td>\n",
       "    </tr>\n",
       "    <tr>\n",
       "      <th>2022-04-28</th>\n",
       "      <td>0.202210</td>\n",
       "      <td>0.202000</td>\n",
       "    </tr>\n",
       "    <tr>\n",
       "      <th>2022-04-29</th>\n",
       "      <td>0.189895</td>\n",
       "      <td>0.199788</td>\n",
       "    </tr>\n",
       "    <tr>\n",
       "      <th>2022-05-09</th>\n",
       "      <td>0.156024</td>\n",
       "      <td>0.196441</td>\n",
       "    </tr>\n",
       "  </tbody>\n",
       "</table>\n",
       "<p>202 rows × 2 columns</p>\n",
       "</div>"
      ],
      "text/plain": [
       "               Close  Predictions\n",
       "Date                             \n",
       "2021-09-16  0.337551     0.311814\n",
       "2021-09-17  0.325150     0.311332\n",
       "2021-09-18  0.328581     0.309702\n",
       "2021-09-19  0.316379     0.308230\n",
       "2021-09-20  0.269589     0.305571\n",
       "...              ...          ...\n",
       "2022-04-26  0.195858     0.207876\n",
       "2022-04-27  0.210322     0.204205\n",
       "2022-04-28  0.202210     0.202000\n",
       "2022-04-29  0.189895     0.199788\n",
       "2022-05-09  0.156024     0.196441\n",
       "\n",
       "[202 rows x 2 columns]"
      ]
     },
     "execution_count": 33,
     "metadata": {},
     "output_type": "execute_result"
    }
   ],
   "source": [
    "#Show the valid and predicted prices \n",
    "valid"
   ]
  },
  {
   "cell_type": "code",
   "execution_count": 34,
   "id": "dc21db3a",
   "metadata": {},
   "outputs": [
    {
     "name": "stdout",
     "output_type": "stream",
     "text": [
      "[[0.1890428]]\n"
     ]
    }
   ],
   "source": [
    "#Get the quote\n",
    "chz_quote = web.DataReader('CHZ-USD',data_source = 'yahoo', start='2012-07-01', end='2022-05-09')\n",
    "#Create a new dataframe\n",
    "new_df = chz_quote.filter(['Adj Close'])\n",
    "#Get the last 60 days closing price values and convert the dataframe to an array\n",
    "last_60_days = new_df[-60:].values\n",
    "#Scale the data to be values between 0 and 1\n",
    "last_60_days_scaled = scaler.transform(last_60_days)\n",
    "#Create an empty list\n",
    "X_test = []\n",
    "#Append the past 60 days \n",
    "X_test.append(last_60_days_scaled)\n",
    "#Convert the X_test data set to a numpy array\n",
    "X_test = np.array(X_test)\n",
    "#Reshape the data\n",
    "X_test = np.reshape(X_test, (X_test.shape[0], X_test.shape[1], 1))\n",
    "#Get the predicted scaled price\n",
    "pred_price = model.predict(X_test)\n",
    "#Undo the scaliing \n",
    "pred_price = scaler.inverse_transform(pred_price)\n",
    "print(pred_price)"
   ]
  },
  {
   "cell_type": "code",
   "execution_count": 36,
   "id": "d347af18",
   "metadata": {},
   "outputs": [
    {
     "name": "stdout",
     "output_type": "stream",
     "text": [
      "Date\n",
      "2022-05-09    0.155976\n",
      "Name: Adj Close, dtype: float64\n"
     ]
    }
   ],
   "source": [
    "#Get the quote\n",
    "chz_quote = web.DataReader('CHZ-USD',data_source = 'yahoo', start='2022-05-03', end='2022-05-09')\n",
    "print(chz_quote['Adj Close'])"
   ]
  },
  {
   "cell_type": "code",
   "execution_count": null,
   "id": "7f21dcad",
   "metadata": {},
   "outputs": [],
   "source": []
  },
  {
   "cell_type": "code",
   "execution_count": null,
   "id": "bc5f505b",
   "metadata": {},
   "outputs": [],
   "source": []
  }
 ],
 "metadata": {
  "kernelspec": {
   "display_name": "Python 3",
   "language": "python",
   "name": "python3"
  },
  "language_info": {
   "codemirror_mode": {
    "name": "ipython",
    "version": 3
   },
   "file_extension": ".py",
   "mimetype": "text/x-python",
   "name": "python",
   "nbconvert_exporter": "python",
   "pygments_lexer": "ipython3",
   "version": "3.8.8"
  }
 },
 "nbformat": 4,
 "nbformat_minor": 5
}
